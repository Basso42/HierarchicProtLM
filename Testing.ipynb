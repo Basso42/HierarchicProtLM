{
 "cells": [
  {
   "cell_type": "code",
   "execution_count": 3,
   "id": "51150092-5508-4c62-89c1-a421459959e9",
   "metadata": {},
   "outputs": [
    {
     "name": "stdout",
     "output_type": "stream",
     "text": [
      "Requirement already satisfied: ankh in /opt/mamba/lib/python3.11/site-packages (1.10.0)\n",
      "Requirement already satisfied: biopython<2.0,>=1.80 in /opt/mamba/lib/python3.11/site-packages (from ankh) (1.83)\n",
      "Requirement already satisfied: datasets<3.0.0,>=2.7.1 in /opt/mamba/lib/python3.11/site-packages (from ankh) (2.19.0)\n",
      "Requirement already satisfied: sentencepiece<0.2.0,>=0.1.97 in /opt/mamba/lib/python3.11/site-packages (from ankh) (0.1.99)\n",
      "Requirement already satisfied: transformers<5.0.0,>=4.25.1 in /opt/mamba/lib/python3.11/site-packages (from ankh) (4.40.1)\n",
      "Requirement already satisfied: numpy in /opt/mamba/lib/python3.11/site-packages (from biopython<2.0,>=1.80->ankh) (1.26.4)\n",
      "Requirement already satisfied: filelock in /opt/mamba/lib/python3.11/site-packages (from datasets<3.0.0,>=2.7.1->ankh) (3.9.0)\n",
      "Requirement already satisfied: pyarrow>=12.0.0 in /opt/mamba/lib/python3.11/site-packages (from datasets<3.0.0,>=2.7.1->ankh) (15.0.2)\n",
      "Requirement already satisfied: pyarrow-hotfix in /opt/mamba/lib/python3.11/site-packages (from datasets<3.0.0,>=2.7.1->ankh) (0.6)\n",
      "Requirement already satisfied: dill<0.3.9,>=0.3.0 in /opt/mamba/lib/python3.11/site-packages (from datasets<3.0.0,>=2.7.1->ankh) (0.3.8)\n",
      "Requirement already satisfied: pandas in /opt/mamba/lib/python3.11/site-packages (from datasets<3.0.0,>=2.7.1->ankh) (2.2.2)\n",
      "Requirement already satisfied: requests>=2.19.0 in /opt/mamba/lib/python3.11/site-packages (from datasets<3.0.0,>=2.7.1->ankh) (2.31.0)\n",
      "Requirement already satisfied: tqdm>=4.62.1 in /opt/mamba/lib/python3.11/site-packages (from datasets<3.0.0,>=2.7.1->ankh) (4.66.2)\n",
      "Requirement already satisfied: xxhash in /opt/mamba/lib/python3.11/site-packages (from datasets<3.0.0,>=2.7.1->ankh) (3.4.1)\n",
      "Requirement already satisfied: multiprocess in /opt/mamba/lib/python3.11/site-packages (from datasets<3.0.0,>=2.7.1->ankh) (0.70.16)\n",
      "Requirement already satisfied: fsspec<=2024.3.1,>=2023.1.0 in /opt/mamba/lib/python3.11/site-packages (from fsspec[http]<=2024.3.1,>=2023.1.0->datasets<3.0.0,>=2.7.1->ankh) (2024.3.1)\n",
      "Requirement already satisfied: aiohttp in /opt/mamba/lib/python3.11/site-packages (from datasets<3.0.0,>=2.7.1->ankh) (3.9.3)\n",
      "Requirement already satisfied: huggingface-hub>=0.21.2 in /opt/mamba/lib/python3.11/site-packages (from datasets<3.0.0,>=2.7.1->ankh) (0.22.2)\n",
      "Requirement already satisfied: packaging in /opt/mamba/lib/python3.11/site-packages (from datasets<3.0.0,>=2.7.1->ankh) (24.0)\n",
      "Requirement already satisfied: pyyaml>=5.1 in /opt/mamba/lib/python3.11/site-packages (from datasets<3.0.0,>=2.7.1->ankh) (6.0.1)\n",
      "Requirement already satisfied: regex!=2019.12.17 in /opt/mamba/lib/python3.11/site-packages (from transformers<5.0.0,>=4.25.1->ankh) (2024.4.16)\n",
      "Requirement already satisfied: tokenizers<0.20,>=0.19 in /opt/mamba/lib/python3.11/site-packages (from transformers<5.0.0,>=4.25.1->ankh) (0.19.1)\n",
      "Requirement already satisfied: safetensors>=0.4.1 in /opt/mamba/lib/python3.11/site-packages (from transformers<5.0.0,>=4.25.1->ankh) (0.4.3)\n",
      "Requirement already satisfied: aiosignal>=1.1.2 in /opt/mamba/lib/python3.11/site-packages (from aiohttp->datasets<3.0.0,>=2.7.1->ankh) (1.3.1)\n",
      "Requirement already satisfied: attrs>=17.3.0 in /opt/mamba/lib/python3.11/site-packages (from aiohttp->datasets<3.0.0,>=2.7.1->ankh) (23.2.0)\n",
      "Requirement already satisfied: frozenlist>=1.1.1 in /opt/mamba/lib/python3.11/site-packages (from aiohttp->datasets<3.0.0,>=2.7.1->ankh) (1.4.1)\n",
      "Requirement already satisfied: multidict<7.0,>=4.5 in /opt/mamba/lib/python3.11/site-packages (from aiohttp->datasets<3.0.0,>=2.7.1->ankh) (6.0.5)\n",
      "Requirement already satisfied: yarl<2.0,>=1.0 in /opt/mamba/lib/python3.11/site-packages (from aiohttp->datasets<3.0.0,>=2.7.1->ankh) (1.9.4)\n",
      "Requirement already satisfied: typing-extensions>=3.7.4.3 in /opt/mamba/lib/python3.11/site-packages (from huggingface-hub>=0.21.2->datasets<3.0.0,>=2.7.1->ankh) (4.11.0)\n",
      "Requirement already satisfied: charset-normalizer<4,>=2 in /opt/mamba/lib/python3.11/site-packages (from requests>=2.19.0->datasets<3.0.0,>=2.7.1->ankh) (3.3.2)\n",
      "Requirement already satisfied: idna<4,>=2.5 in /opt/mamba/lib/python3.11/site-packages (from requests>=2.19.0->datasets<3.0.0,>=2.7.1->ankh) (3.6)\n",
      "Requirement already satisfied: urllib3<3,>=1.21.1 in /opt/mamba/lib/python3.11/site-packages (from requests>=2.19.0->datasets<3.0.0,>=2.7.1->ankh) (1.26.18)\n",
      "Requirement already satisfied: certifi>=2017.4.17 in /opt/mamba/lib/python3.11/site-packages (from requests>=2.19.0->datasets<3.0.0,>=2.7.1->ankh) (2024.2.2)\n",
      "Requirement already satisfied: python-dateutil>=2.8.2 in /opt/mamba/lib/python3.11/site-packages (from pandas->datasets<3.0.0,>=2.7.1->ankh) (2.9.0)\n",
      "Requirement already satisfied: pytz>=2020.1 in /opt/mamba/lib/python3.11/site-packages (from pandas->datasets<3.0.0,>=2.7.1->ankh) (2024.1)\n",
      "Requirement already satisfied: tzdata>=2022.7 in /opt/mamba/lib/python3.11/site-packages (from pandas->datasets<3.0.0,>=2.7.1->ankh) (2024.1)\n",
      "Requirement already satisfied: six>=1.5 in /opt/mamba/lib/python3.11/site-packages (from python-dateutil>=2.8.2->pandas->datasets<3.0.0,>=2.7.1->ankh) (1.16.0)\n"
     ]
    }
   ],
   "source": [
    "!pip install ankh"
   ]
  },
  {
   "cell_type": "code",
   "execution_count": 4,
   "id": "b014adee-528a-42c7-ba88-1081775db4be",
   "metadata": {},
   "outputs": [],
   "source": [
    "import ankh"
   ]
  },
  {
   "cell_type": "code",
   "execution_count": 5,
   "id": "4e454166-eb1d-49b8-b596-d49bff314863",
   "metadata": {
    "collapsed": true,
    "jupyter": {
     "outputs_hidden": true
    }
   },
   "outputs": [
    {
     "data": {
      "application/vnd.jupyter.widget-view+json": {
       "model_id": "e586d256d349463caeb13f435d2a8de6",
       "version_major": 2,
       "version_minor": 0
      },
      "text/plain": [
       "tokenizer_config.json:   0%|          | 0.00/2.82k [00:00<?, ?B/s]"
      ]
     },
     "metadata": {},
     "output_type": "display_data"
    },
    {
     "data": {
      "application/vnd.jupyter.widget-view+json": {
       "model_id": "8409f92ee4cd4018a6037e47407b1e09",
       "version_major": 2,
       "version_minor": 0
      },
      "text/plain": [
       "tokenizer.json:   0%|          | 0.00/31.2k [00:00<?, ?B/s]"
      ]
     },
     "metadata": {},
     "output_type": "display_data"
    },
    {
     "data": {
      "application/vnd.jupyter.widget-view+json": {
       "model_id": "92387d25e05b4c9b8d1a900fdf071fd6",
       "version_major": 2,
       "version_minor": 0
      },
      "text/plain": [
       "special_tokens_map.json:   0%|          | 0.00/2.58k [00:00<?, ?B/s]"
      ]
     },
     "metadata": {},
     "output_type": "display_data"
    },
    {
     "data": {
      "application/vnd.jupyter.widget-view+json": {
       "model_id": "9b197050776243f2a09e3723718c00cf",
       "version_major": 2,
       "version_minor": 0
      },
      "text/plain": [
       "config.json:   0%|          | 0.00/826 [00:00<?, ?B/s]"
      ]
     },
     "metadata": {},
     "output_type": "display_data"
    },
    {
     "data": {
      "application/vnd.jupyter.widget-view+json": {
       "model_id": "64ccafebe02f437b91be8b01a32b069e",
       "version_major": 2,
       "version_minor": 0
      },
      "text/plain": [
       "pytorch_model.bin:   0%|          | 0.00/2.95G [00:00<?, ?B/s]"
      ]
     },
     "metadata": {},
     "output_type": "display_data"
    },
    {
     "data": {
      "text/plain": [
       "T5EncoderModel(\n",
       "  (shared): Embedding(144, 768)\n",
       "  (encoder): T5Stack(\n",
       "    (embed_tokens): Embedding(144, 768)\n",
       "    (block): ModuleList(\n",
       "      (0): T5Block(\n",
       "        (layer): ModuleList(\n",
       "          (0): T5LayerSelfAttention(\n",
       "            (SelfAttention): T5Attention(\n",
       "              (q): Linear(in_features=768, out_features=768, bias=False)\n",
       "              (k): Linear(in_features=768, out_features=768, bias=False)\n",
       "              (v): Linear(in_features=768, out_features=768, bias=False)\n",
       "              (o): Linear(in_features=768, out_features=768, bias=False)\n",
       "              (relative_attention_bias): Embedding(64, 12)\n",
       "            )\n",
       "            (layer_norm): T5LayerNorm()\n",
       "            (dropout): Dropout(p=0.0, inplace=False)\n",
       "          )\n",
       "          (1): T5LayerFF(\n",
       "            (DenseReluDense): T5DenseGatedActDense(\n",
       "              (wi_0): Linear(in_features=768, out_features=3072, bias=False)\n",
       "              (wi_1): Linear(in_features=768, out_features=3072, bias=False)\n",
       "              (wo): Linear(in_features=3072, out_features=768, bias=False)\n",
       "              (dropout): Dropout(p=0.0, inplace=False)\n",
       "              (act): NewGELUActivation()\n",
       "            )\n",
       "            (layer_norm): T5LayerNorm()\n",
       "            (dropout): Dropout(p=0.0, inplace=False)\n",
       "          )\n",
       "        )\n",
       "      )\n",
       "      (1-47): 47 x T5Block(\n",
       "        (layer): ModuleList(\n",
       "          (0): T5LayerSelfAttention(\n",
       "            (SelfAttention): T5Attention(\n",
       "              (q): Linear(in_features=768, out_features=768, bias=False)\n",
       "              (k): Linear(in_features=768, out_features=768, bias=False)\n",
       "              (v): Linear(in_features=768, out_features=768, bias=False)\n",
       "              (o): Linear(in_features=768, out_features=768, bias=False)\n",
       "            )\n",
       "            (layer_norm): T5LayerNorm()\n",
       "            (dropout): Dropout(p=0.0, inplace=False)\n",
       "          )\n",
       "          (1): T5LayerFF(\n",
       "            (DenseReluDense): T5DenseGatedActDense(\n",
       "              (wi_0): Linear(in_features=768, out_features=3072, bias=False)\n",
       "              (wi_1): Linear(in_features=768, out_features=3072, bias=False)\n",
       "              (wo): Linear(in_features=3072, out_features=768, bias=False)\n",
       "              (dropout): Dropout(p=0.0, inplace=False)\n",
       "              (act): NewGELUActivation()\n",
       "            )\n",
       "            (layer_norm): T5LayerNorm()\n",
       "            (dropout): Dropout(p=0.0, inplace=False)\n",
       "          )\n",
       "        )\n",
       "      )\n",
       "    )\n",
       "    (final_layer_norm): T5LayerNorm()\n",
       "    (dropout): Dropout(p=0.0, inplace=False)\n",
       "  )\n",
       ")"
      ]
     },
     "execution_count": 5,
     "metadata": {},
     "output_type": "execute_result"
    }
   ],
   "source": [
    "model, tokenizer = ankh.load_base_model()\n",
    "model.eval()"
   ]
  },
  {
   "cell_type": "markdown",
   "id": "435500db-9f76-4660-8701-29be867a6147",
   "metadata": {},
   "source": [
    "For EC prediction, we will always want to predict 5 labels, corresponding to the depth of the EC classification for a given enzyme."
   ]
  },
  {
   "cell_type": "code",
   "execution_count": 16,
   "id": "dbe4e8b6-d7d0-40d8-b7b2-9c78faacdbaf",
   "metadata": {},
   "outputs": [],
   "source": [
    "# To use downstream model for multiclass classification:\n",
    "multilabel_classification_model = ankh.ConvBertForMultiLabelClassification(num_tokens=5, \n",
    "                                                                             input_dim=768, \n",
    "                                                                             nhead=4, \n",
    "                                                                             hidden_dim=384, \n",
    "                                                                             num_hidden_layers=1, \n",
    "                                                                             num_layers=1, \n",
    "                                                                             kernel_size=7, \n",
    "                                                                             dropout=0.2)"
   ]
  },
  {
   "cell_type": "code",
   "execution_count": 17,
   "id": "26f63ed4-40ab-4049-b253-08a6118e4021",
   "metadata": {},
   "outputs": [
    {
     "data": {
      "text/plain": [
       "ConvBertForMultiLabelClassification(\n",
       "  (transformer_encoder): ModuleList(\n",
       "    (0): ConvBertLayer(\n",
       "      (attention): ConvBertAttention(\n",
       "        (self): ConvBertSelfAttention(\n",
       "          (query): Linear(in_features=768, out_features=384, bias=True)\n",
       "          (key): Linear(in_features=768, out_features=384, bias=True)\n",
       "          (value): Linear(in_features=768, out_features=384, bias=True)\n",
       "          (key_conv_attn_layer): SeparableConv1D(\n",
       "            (depthwise): Conv1d(768, 768, kernel_size=(7,), stride=(1,), padding=(3,), groups=768, bias=False)\n",
       "            (pointwise): Conv1d(768, 384, kernel_size=(1,), stride=(1,), bias=False)\n",
       "          )\n",
       "          (conv_kernel_layer): Linear(in_features=384, out_features=14, bias=True)\n",
       "          (conv_out_layer): Linear(in_features=768, out_features=384, bias=True)\n",
       "          (unfold): Unfold(kernel_size=[7, 1], dilation=1, padding=[3, 0], stride=1)\n",
       "          (dropout): Dropout(p=0.1, inplace=False)\n",
       "        )\n",
       "        (output): ConvBertSelfOutput(\n",
       "          (dense): Linear(in_features=768, out_features=768, bias=True)\n",
       "          (LayerNorm): LayerNorm((768,), eps=1e-12, elementwise_affine=True)\n",
       "          (dropout): Dropout(p=0.2, inplace=False)\n",
       "        )\n",
       "      )\n",
       "      (intermediate): ConvBertIntermediate(\n",
       "        (dense): Linear(in_features=768, out_features=384, bias=True)\n",
       "        (intermediate_act_fn): GELUActivation()\n",
       "      )\n",
       "      (output): ConvBertOutput(\n",
       "        (dense): Linear(in_features=384, out_features=768, bias=True)\n",
       "        (LayerNorm): LayerNorm((768,), eps=1e-12, elementwise_affine=True)\n",
       "        (dropout): Dropout(p=0.2, inplace=False)\n",
       "      )\n",
       "    )\n",
       "  )\n",
       "  (decoder): Linear(in_features=768, out_features=100, bias=True)\n",
       ")"
      ]
     },
     "execution_count": 17,
     "metadata": {},
     "output_type": "execute_result"
    }
   ],
   "source": [
    "multilabel_classification_model"
   ]
  },
  {
   "cell_type": "code",
   "execution_count": null,
   "id": "5ae64f94-ac1b-48c8-853c-e81fe54c4fe8",
   "metadata": {},
   "outputs": [],
   "source": []
  }
 ],
 "metadata": {
  "kernelspec": {
   "display_name": "Python 3 (ipykernel)",
   "language": "python",
   "name": "python3"
  },
  "language_info": {
   "codemirror_mode": {
    "name": "ipython",
    "version": 3
   },
   "file_extension": ".py",
   "mimetype": "text/x-python",
   "name": "python",
   "nbconvert_exporter": "python",
   "pygments_lexer": "ipython3",
   "version": "3.11.6"
  }
 },
 "nbformat": 4,
 "nbformat_minor": 5
}
